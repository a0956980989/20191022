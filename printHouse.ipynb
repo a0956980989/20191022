{
 "cells": [
  {
   "cell_type": "code",
   "execution_count": 11,
   "metadata": {},
   "outputs": [
    {
     "name": "stdout",
     "output_type": "stream",
     "text": [
      "輸入層數5\n",
      "    *\n",
      "   ***\n",
      "  *****\n",
      " *******\n",
      "*********\n",
      "***   ***\n",
      "***   ***\n",
      "***   ***\n"
     ]
    }
   ],
   "source": [
    "def printHouse(n):  \n",
    "    for i in range(n): \n",
    "        for j in range(i + 1, n): \n",
    "            print(' ', end = '') \n",
    "  \n",
    "        # Center Star triangle \n",
    "        for j in range(0, 2 * i + 1): \n",
    "            print('*', end = '') \n",
    "        print() \n",
    "  \n",
    "    for i in range(3): \n",
    "        for j in range(3): \n",
    "            print('*', end = '') \n",
    "        for j in range(2 * n - 7): \n",
    "            print(' ', end = '') \n",
    "        for j in range(3): \n",
    "            print('*', end = '') \n",
    "        print()\n",
    "  \n",
    "\n",
    "n = int(input('輸入層數'))\n",
    "printHouse(n) "
   ]
  }
 ],
 "metadata": {
  "kernelspec": {
   "display_name": "Python 3",
   "language": "python",
   "name": "python3"
  },
  "language_info": {
   "codemirror_mode": {
    "name": "ipython",
    "version": 3
   },
   "file_extension": ".py",
   "mimetype": "text/x-python",
   "name": "python",
   "nbconvert_exporter": "python",
   "pygments_lexer": "ipython3",
   "version": "3.6.4"
  }
 },
 "nbformat": 4,
 "nbformat_minor": 2
}
